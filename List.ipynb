{
  "nbformat": 4,
  "nbformat_minor": 0,
  "metadata": {
    "colab": {
      "provenance": [],
      "authorship_tag": "ABX9TyO0zmJqTkMmR9VafD41Oozz",
      "include_colab_link": true
    },
    "kernelspec": {
      "name": "python3",
      "display_name": "Python 3"
    },
    "language_info": {
      "name": "python"
    }
  },
  "cells": [
    {
      "cell_type": "markdown",
      "metadata": {
        "id": "view-in-github",
        "colab_type": "text"
      },
      "source": [
        "<a href=\"https://colab.research.google.com/github/A109010048/Python/blob/main/List.ipynb\" target=\"_parent\"><img src=\"https://colab.research.google.com/assets/colab-badge.svg\" alt=\"Open In Colab\"/></a>"
      ]
    },
    {
      "cell_type": "code",
      "execution_count": 7,
      "metadata": {
        "colab": {
          "base_uri": "https://localhost:8080/"
        },
        "id": "GZRRJTvdaQez",
        "outputId": "d2d0b4e9-8eb7-4aab-86a0-b0886eb16863"
      },
      "outputs": [
        {
          "output_type": "stream",
          "name": "stdout",
          "text": [
            "Please enter the operating instruction (A)search (B)add (C)delete (D)modify:d\n",
            "Please enter the name which you want to modify his/her grade:Robert\n",
            "Please enter the new grade:88\n",
            "['James', 82, 'Robert', '88', 'Michael', 85]\n"
          ]
        }
      ],
      "source": [
        "GradeSystem = [\"James\", 82, \"Robert\", 94, \"Michael\", 85]\n",
        "operate = input(\"Please enter the operating instruction (A)search (B)add (C)delete (D)modify:\").upper()\n",
        "if operate == \"A\":\n",
        "  name = input(\"Please enter the name which you want to search:\")\n",
        "  if name not in GradeSystem:\n",
        "    print(\"No such person.\")\n",
        "  else:\n",
        "    arr = GradeSystem.index(name)\n",
        "    print(f\"{name} got {GradeSystem[arr+1]}\")\n",
        "elif operate == \"B\":\n",
        "   new = input(\"Please enter the name/grade which you want to add(use '/' to se perate):\")\n",
        "   GradeSystem.extend(new.split(\"/\"))\n",
        "   print(\"Finished.\")\n",
        "   print(f\"There are {int(len(GradeSystem)/2)} people in the system.\")\n",
        "elif operate == \"C\":\n",
        "  name = input(\"Please enter the name which you want to delete:\")\n",
        "  arr = GradeSystem.index(name)\n",
        "  GradeSystem.pop(arr)\n",
        "  GradeSystem.pop(arr)\n",
        "  print(GradeSystem)\n",
        "elif operate == \"D\":\n",
        "  name = input(\"Please enter the name which you want to modify his/her grade:\")\n",
        "  grade = input(\"Please enter the new grade:\")\n",
        "  arr = GradeSystem.index(name)\n",
        "  GradeSystem[arr+1] = grade\n",
        "  print(GradeSystem)\n"
      ]
    }
  ]
}