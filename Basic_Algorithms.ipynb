{
  "nbformat": 4,
  "nbformat_minor": 0,
  "metadata": {
    "colab": {
      "provenance": [],
      "authorship_tag": "ABX9TyP2FKjuLX7A9kS5mAkxsk3X",
      "include_colab_link": true
    },
    "kernelspec": {
      "name": "python3",
      "display_name": "Python 3"
    },
    "language_info": {
      "name": "python"
    }
  },
  "cells": [
    {
      "cell_type": "markdown",
      "metadata": {
        "id": "view-in-github",
        "colab_type": "text"
      },
      "source": [
        "<a href=\"https://colab.research.google.com/github/A109010048/Python/blob/main/Basic_Algorithms.ipynb\" target=\"_parent\"><img src=\"https://colab.research.google.com/assets/colab-badge.svg\" alt=\"Open In Colab\"/></a>"
      ]
    },
    {
      "cell_type": "code",
      "execution_count": 17,
      "metadata": {
        "id": "_48U--natKBm",
        "colab": {
          "base_uri": "https://localhost:8080/"
        },
        "outputId": "8a6c0ea1-ec70-408b-a17c-00d8b3b47bed"
      },
      "outputs": [
        {
          "output_type": "stream",
          "name": "stdout",
          "text": [
            "[1, 2, 3, 4, 5, 6, 7, 8]\n"
          ]
        }
      ],
      "source": [
        "#insertion sort\n",
        "def insertion_sort(arr):\n",
        "    for i in range(1,len(arr)):\n",
        "        j = i\n",
        "        while arr[j-1] > arr[j] and j > 0:\n",
        "            arr[j-1], arr[j] = arr[j], arr[j-1]\n",
        "            j -= 1\n",
        "\n",
        "arr = [5,2,8,1,4,6,3,7]\n",
        "insertion_sort(arr)\n",
        "print(arr)"
      ]
    },
    {
      "cell_type": "code",
      "source": [
        "#selsection sort\n",
        "def selsection_sort(arr):\n",
        "    for i in range(len(arr)-1):\n",
        "        min_idx = i\n",
        "        for j in range(i+1, len(arr)):\n",
        "            if arr[j] < arr[min_idx]:\n",
        "              min_idx = j\n",
        "        arr[i], arr[min_idx] = arr[min_idx], arr[i]\n",
        "\n",
        "arr = [5,2,8,1,4,6,3,7]\n",
        "selsection_sort(arr)\n",
        "print(arr)"
      ],
      "metadata": {
        "colab": {
          "base_uri": "https://localhost:8080/"
        },
        "id": "Y5hBaQp2UzJU",
        "outputId": "460634d5-39ef-47cf-ae23-11c6773e3178"
      },
      "execution_count": 18,
      "outputs": [
        {
          "output_type": "stream",
          "name": "stdout",
          "text": [
            "[1, 2, 3, 4, 5, 6, 7, 8]\n"
          ]
        }
      ]
    },
    {
      "cell_type": "code",
      "source": [
        "#merge sort\n",
        "def merge_sort(arr):\n",
        "    if len(arr) > 1:\n",
        "        left_arr = arr[: len(arr)//2]\n",
        "        right_arr = arr[len(arr)//2 :]\n",
        "\n",
        "        merge_sort(left_arr)\n",
        "        merge_sort(right_arr)\n",
        "\n",
        "        i = 0\n",
        "        j = 0\n",
        "        k = 0\n",
        "        while i < len(left_arr) and j < len(right_arr):\n",
        "            if left_arr[i] < right_arr[j]:\n",
        "                arr[k] = left_arr[i]\n",
        "                i += 1\n",
        "            else:\n",
        "                arr[k] = right_arr[j]\n",
        "                j += 1\n",
        "            k +=1\n",
        "\n",
        "        while i < len(left_arr):\n",
        "            arr[k] = left_arr[i]\n",
        "            i += 1\n",
        "            k += 1\n",
        "\n",
        "        while j < len(right_arr):\n",
        "            arr[k] = right_arr[j]\n",
        "            j += 1\n",
        "            k += 1\n",
        "\n",
        "test_arr = [19,33,7,51,20,33]\n",
        "merge_sort(test_arr)\n",
        "print(test_arr)"
      ],
      "metadata": {
        "colab": {
          "base_uri": "https://localhost:8080/"
        },
        "id": "LFB2ET9kVWoP",
        "outputId": "042d9776-1f3e-42f1-c40c-a0eece8a0fbe"
      },
      "execution_count": 19,
      "outputs": [
        {
          "output_type": "stream",
          "name": "stdout",
          "text": [
            "[7, 19, 20, 33, 33, 51]\n"
          ]
        }
      ]
    },
    {
      "cell_type": "code",
      "source": [
        "#QuickSort \n",
        "def quicksort(arr, left, right): \n",
        "  if left < right: #len(arr) > 1\n",
        "    partition_pos = partition(arr, left, right)\n",
        "    quicksort(arr, left, partition_pos - 1)\n",
        "    quicksort(arr, partition_pos + 1, right)\n",
        "\n",
        "def partition(arr, left, right): #retern the index of the pivot \n",
        "   i = left\n",
        "   j = right - 1\n",
        "   pivot = arr[right]\n",
        "   \n",
        "   while i < j:\n",
        "     while i < right and arr[i] < pivot:\n",
        "       i += 1\n",
        "     while j > left and arr[j] >= pivot:\n",
        "       j -= 1\n",
        "     if i < j:\n",
        "       arr[i], arr[j] = arr[j], arr[i]\n",
        "  \n",
        "   if arr[i] > pivot:\n",
        "     arr[i], arr[right] = arr[right], arr[i]\n",
        "   \n",
        "   return i\n",
        "\n",
        "arr=[22, 11, 88, 66, 55, 77, 33, 44]\n",
        "quicksort(arr, 0, len(arr) - 1)\n",
        "print(arr)"
      ],
      "metadata": {
        "colab": {
          "base_uri": "https://localhost:8080/"
        },
        "id": "bJLW0k8pgO5R",
        "outputId": "c92973a2-cde0-40bf-bce9-9e37f8f191e9"
      },
      "execution_count": 21,
      "outputs": [
        {
          "output_type": "stream",
          "name": "stdout",
          "text": [
            "[11, 22, 33, 44, 55, 66, 77, 88]\n"
          ]
        }
      ]
    }
  ]
}