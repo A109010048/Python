{
  "nbformat": 4,
  "nbformat_minor": 0,
  "metadata": {
    "colab": {
      "provenance": [],
      "authorship_tag": "ABX9TyP28lTB2a1wznLa0Geb1V9x",
      "include_colab_link": true
    },
    "kernelspec": {
      "name": "python3",
      "display_name": "Python 3"
    },
    "language_info": {
      "name": "python"
    }
  },
  "cells": [
    {
      "cell_type": "markdown",
      "metadata": {
        "id": "view-in-github",
        "colab_type": "text"
      },
      "source": [
        "<a href=\"https://colab.research.google.com/github/A109010048/Python/blob/main/Basic_Algorithms.ipynb\" target=\"_parent\"><img src=\"https://colab.research.google.com/assets/colab-badge.svg\" alt=\"Open In Colab\"/></a>"
      ]
    },
    {
      "cell_type": "code",
      "execution_count": 3,
      "metadata": {
        "id": "_48U--natKBm",
        "colab": {
          "base_uri": "https://localhost:8080/"
        },
        "outputId": "1f758488-244c-4bea-a83f-e29ba952e944"
      },
      "outputs": [
        {
          "output_type": "stream",
          "name": "stdout",
          "text": [
            "[1, 2, 3, 4, 5, 6, 7, 8]\n"
          ]
        }
      ],
      "source": [
        "def insertion_sort(arr):\n",
        "    for i in range(1,len(arr)):\n",
        "        j = i\n",
        "        while arr[j-1] > arr[j] and j > 0:\n",
        "            arr[j-1], arr[j] = arr[j], arr[j-1]\n",
        "            j -= 1\n",
        "\n",
        "arr = [5,2,8,1,4,6,3,7]\n",
        "insertion_sort(arr)\n",
        "print(arr)"
      ]
    },
    {
      "cell_type": "code",
      "source": [
        "def selsection_sort(arr):\n",
        "    for i in range(len(arr)-1):\n",
        "        min_idx = i\n",
        "        for j in range(i+1, len(arr)):\n",
        "            if arr[j] < arr[min_idx]:\n",
        "              min_idx = j\n",
        "        arr[i], arr[min_idx] = arr[min_idx], arr[i]\n",
        "\n",
        "arr = [5,2,8,1,4,6,3,7]\n",
        "selsection_sort(arr)\n",
        "print(arr)"
      ],
      "metadata": {
        "colab": {
          "base_uri": "https://localhost:8080/"
        },
        "id": "Y5hBaQp2UzJU",
        "outputId": "93488f98-3770-427f-91cf-fe8005808281"
      },
      "execution_count": 16,
      "outputs": [
        {
          "output_type": "stream",
          "name": "stdout",
          "text": [
            "[1, 2, 3, 4, 5, 6, 7, 8]\n"
          ]
        }
      ]
    },
    {
      "cell_type": "code",
      "source": [
        "def merge_sort(arr):\n",
        "    if len(arr) > 1:\n",
        "        left_arr = arr[: len(arr)//2]\n",
        "        right_arr = arr[len(arr)//2 :]\n",
        "\n",
        "        merge_sort(left_arr)\n",
        "        merge_sort(right_arr)\n",
        "\n",
        "        i = 0\n",
        "        j = 0\n",
        "        k = 0\n",
        "        while i < len(left_arr) and j < len(right_arr):\n",
        "            if left_arr[i] < right_arr[j]:\n",
        "                arr[k] = left_arr[i]\n",
        "                i += 1\n",
        "            else:\n",
        "                arr[k] = right_arr[j]\n",
        "                j += 1\n",
        "            k +=1\n",
        "\n",
        "        while i < len(left_arr):\n",
        "            arr[k] = left_arr[i]\n",
        "            i += 1\n",
        "            k += 1\n",
        "\n",
        "        while j < len(right_arr):\n",
        "            arr[k] = right_arr[j]\n",
        "            j += 1\n",
        "            k += 1\n",
        "\n",
        "test_arr = [19,33,7,51,20,33]\n",
        "merge_sort(test_arr)\n",
        "print(test_arr)"
      ],
      "metadata": {
        "colab": {
          "base_uri": "https://localhost:8080/"
        },
        "id": "LFB2ET9kVWoP",
        "outputId": "720113a1-7365-47c4-9452-cd554e60c291"
      },
      "execution_count": 14,
      "outputs": [
        {
          "output_type": "stream",
          "name": "stdout",
          "text": [
            "[7, 19, 20, 33, 33, 51]\n"
          ]
        }
      ]
    }
  ]
}